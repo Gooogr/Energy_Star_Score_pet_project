{
 "cells": [
  {
   "cell_type": "code",
   "execution_count": 9,
   "metadata": {
    "ExecuteTime": {
     "end_time": "2019-03-25T18:00:49.440815Z",
     "start_time": "2019-03-25T18:00:49.433276Z"
    }
   },
   "outputs": [],
   "source": [
    "import pandas as pd\n",
    "pd.set_option('display.max_columns', 60)\n",
    "import numpy as np\n",
    "import matplotlib.pyplot as plt\n",
    "%matplotlib inline\n",
    "plt.style.use('seaborn')\n",
    "import seaborn as sns\n",
    "from IPython.core.pylabtools import figsize \n",
    "\n",
    "from sklearn.externals import joblib\n",
    "\n",
    "from sklearn.preprocessing import Imputer, StandardScaler"
   ]
  },
  {
   "cell_type": "markdown",
   "metadata": {},
   "source": [
    "**Загрузка данных и модели с предыдущего шага**"
   ]
  },
  {
   "cell_type": "code",
   "execution_count": 5,
   "metadata": {
    "ExecuteTime": {
     "end_time": "2019-03-25T17:56:02.548470Z",
     "start_time": "2019-03-25T17:56:02.474357Z"
    }
   },
   "outputs": [],
   "source": [
    "model = joblib.load('model/FINAL_model.pkl')"
   ]
  },
  {
   "cell_type": "code",
   "execution_count": 7,
   "metadata": {
    "ExecuteTime": {
     "end_time": "2019-03-25T17:58:35.047015Z",
     "start_time": "2019-03-25T17:58:34.990814Z"
    }
   },
   "outputs": [],
   "source": [
    "train_features = pd.read_csv('data/training_features.csv')\n",
    "test_features = pd.read_csv('data/testing_features.csv')\n",
    "train_labels = pd.read_csv('data/training_labels.csv')\n",
    "test_labels = pd.read_csv('data/testing_labels.csv')"
   ]
  },
  {
   "cell_type": "code",
   "execution_count": 10,
   "metadata": {
    "ExecuteTime": {
     "end_time": "2019-03-25T18:01:21.446731Z",
     "start_time": "2019-03-25T18:01:21.388419Z"
    }
   },
   "outputs": [
    {
     "name": "stderr",
     "output_type": "stream",
     "text": [
      "/home/grigoriy/anaconda3/envs/basic_env/lib/python3.6/site-packages/sklearn/utils/deprecation.py:58: DeprecationWarning: Class Imputer is deprecated; Imputer was deprecated in version 0.20 and will be removed in 0.22. Import impute.SimpleImputer from sklearn instead.\n",
      "  warnings.warn(msg, category=DeprecationWarning)\n"
     ]
    }
   ],
   "source": [
    "imputer = Imputer(strategy = 'median')\n",
    "imputer.fit(train_features)\n",
    "\n",
    "X = imputer.transform(train_features)\n",
    "X_test = imputer.transform(test_features)\n",
    "\n",
    "scaler = StandardScaler()\n",
    "scaler.fit(X)\n",
    "\n",
    "X = scaler.transform(X)\n",
    "X_test = scaler.transform(X_test)\n",
    "\n",
    "y = np.array(train_labels).reshape(-1) #get 1-D array\n",
    "y_test = np.array(test_labels).reshape(-1)"
   ]
  },
  {
   "cell_type": "code",
   "execution_count": 12,
   "metadata": {
    "ExecuteTime": {
     "end_time": "2019-03-25T18:02:47.469379Z",
     "start_time": "2019-03-25T18:02:47.467253Z"
    }
   },
   "outputs": [],
   "source": [
    "def mae(y_true, y_pred):\n",
    "    return np.mean(abs(y_true - y_pred))"
   ]
  },
  {
   "cell_type": "code",
   "execution_count": 14,
   "metadata": {
    "ExecuteTime": {
     "end_time": "2019-03-25T18:03:58.231331Z",
     "start_time": "2019-03-25T18:03:58.202902Z"
    }
   },
   "outputs": [
    {
     "name": "stdout",
     "output_type": "stream",
     "text": [
      "MAE: 8.559743836594844\n"
     ]
    }
   ],
   "source": [
    "y_pred = model.predict(X_test)\n",
    "print('MAE: {}'.format(mae(y_test, y_pred)))"
   ]
  },
  {
   "cell_type": "code",
   "execution_count": 15,
   "metadata": {
    "ExecuteTime": {
     "end_time": "2019-03-25T18:06:49.153320Z",
     "start_time": "2019-03-25T18:06:49.143430Z"
    }
   },
   "outputs": [
    {
     "data": {
      "text/plain": [
       "array([2.65885489e-02, 1.87238580e-02, 1.51242086e-02, 1.62138583e-03,\n",
       "       2.56368648e-03, 1.87067936e-02, 1.98130264e-02, 1.11457342e-01,\n",
       "       6.76875252e-01, 7.58821738e-03, 1.22537041e-02, 6.75759303e-04,\n",
       "       1.36226893e-03, 1.04191171e-03, 6.76578412e-04, 4.06273887e-05,\n",
       "       0.00000000e+00, 0.00000000e+00, 0.00000000e+00, 0.00000000e+00,\n",
       "       0.00000000e+00, 0.00000000e+00, 3.19316501e-03, 0.00000000e+00,\n",
       "       5.74217683e-04, 6.78077370e-04, 2.15970029e-03, 5.50606046e-05,\n",
       "       0.00000000e+00, 0.00000000e+00, 0.00000000e+00, 4.48357944e-04,\n",
       "       0.00000000e+00, 0.00000000e+00, 3.97073099e-02, 2.14337005e-02,\n",
       "       0.00000000e+00, 0.00000000e+00, 0.00000000e+00, 0.00000000e+00,\n",
       "       0.00000000e+00, 0.00000000e+00, 0.00000000e+00, 0.00000000e+00,\n",
       "       0.00000000e+00, 0.00000000e+00, 0.00000000e+00, 0.00000000e+00,\n",
       "       0.00000000e+00, 1.39834121e-04, 0.00000000e+00, 8.11479519e-04,\n",
       "       0.00000000e+00, 0.00000000e+00, 1.92422173e-03, 0.00000000e+00,\n",
       "       1.00188841e-03, 0.00000000e+00, 0.00000000e+00, 7.72330050e-04,\n",
       "       0.00000000e+00, 8.40001583e-05, 1.19034873e-02])"
      ]
     },
     "execution_count": 15,
     "metadata": {},
     "output_type": "execute_result"
    }
   ],
   "source": [
    "model.feature_importances_"
   ]
  },
  {
   "cell_type": "code",
   "execution_count": 16,
   "metadata": {
    "ExecuteTime": {
     "end_time": "2019-03-25T18:07:06.043582Z",
     "start_time": "2019-03-25T18:07:06.040198Z"
    }
   },
   "outputs": [
    {
     "data": {
      "text/plain": [
       "Index(['sqrt_Property Id', 'sqrt_Street Number', 'sqrt_Year Built',\n",
       "       'sqrt_Number of Buildings - Self-reported', 'sqrt_Occupancy',\n",
       "       'sqrt_Direct GHG Emissions (Metric Tons CO2e)',\n",
       "       'sqrt_Property GFA - Self-Reported (ft²)',\n",
       "       'sqrt_Water Intensity (All Water Sources) (gal/ft²)',\n",
       "       'sqrt_Source EUI (kBtu/ft²)', 'sqrt_Community Board',\n",
       "       'sqrt_Census Tract', 'Borough_Bronx', 'Borough_Brooklyn',\n",
       "       'Borough_Manhattan', 'Borough_Queens', 'Borough_Staten Island',\n",
       "       'Largest Property Use Type_Adult Education',\n",
       "       'Largest Property Use Type_Automobile Dealership',\n",
       "       'Largest Property Use Type_Bank Branch',\n",
       "       'Largest Property Use Type_College/University',\n",
       "       'Largest Property Use Type_Convenience Store without Gas Station',\n",
       "       'Largest Property Use Type_Courthouse',\n",
       "       'Largest Property Use Type_Distribution Center',\n",
       "       'Largest Property Use Type_Enclosed Mall',\n",
       "       'Largest Property Use Type_Financial Office',\n",
       "       'Largest Property Use Type_Hospital (General Medical & Surgical)',\n",
       "       'Largest Property Use Type_Hotel',\n",
       "       'Largest Property Use Type_K-12 School',\n",
       "       'Largest Property Use Type_Library',\n",
       "       'Largest Property Use Type_Mailing Center/Post Office',\n",
       "       'Largest Property Use Type_Manufacturing/Industrial Plant',\n",
       "       'Largest Property Use Type_Medical Office',\n",
       "       'Largest Property Use Type_Movie Theater',\n",
       "       'Largest Property Use Type_Museum',\n",
       "       'Largest Property Use Type_Non-Refrigerated Warehouse',\n",
       "       'Largest Property Use Type_Office', 'Largest Property Use Type_Other',\n",
       "       'Largest Property Use Type_Other - Education',\n",
       "       'Largest Property Use Type_Other - Entertainment/Public Assembly',\n",
       "       'Largest Property Use Type_Other - Lodging/Residential',\n",
       "       'Largest Property Use Type_Other - Mall',\n",
       "       'Largest Property Use Type_Other - Public Services',\n",
       "       'Largest Property Use Type_Other - Recreation',\n",
       "       'Largest Property Use Type_Other - Services',\n",
       "       'Largest Property Use Type_Other - Specialty Hospital',\n",
       "       'Largest Property Use Type_Outpatient Rehabilitation/Physical Therapy',\n",
       "       'Largest Property Use Type_Parking',\n",
       "       'Largest Property Use Type_Performing Arts',\n",
       "       'Largest Property Use Type_Pre-school/Daycare',\n",
       "       'Largest Property Use Type_Refrigerated Warehouse',\n",
       "       'Largest Property Use Type_Repair Services (Vehicle, Shoe, Locksmith, etc.)',\n",
       "       'Largest Property Use Type_Residence Hall/Dormitory',\n",
       "       'Largest Property Use Type_Residential Care Facility',\n",
       "       'Largest Property Use Type_Restaurant',\n",
       "       'Largest Property Use Type_Retail Store',\n",
       "       'Largest Property Use Type_Self-Storage Facility',\n",
       "       'Largest Property Use Type_Senior Care Community',\n",
       "       'Largest Property Use Type_Social/Meeting Hall',\n",
       "       'Largest Property Use Type_Strip Mall',\n",
       "       'Largest Property Use Type_Supermarket/Grocery Store',\n",
       "       'Largest Property Use Type_Urgent Care/Clinic/Other Outpatient',\n",
       "       'Largest Property Use Type_Wholesale Club/Supercenter',\n",
       "       'Largest Property Use Type_Worship Facility'],\n",
       "      dtype='object')"
      ]
     },
     "execution_count": 16,
     "metadata": {},
     "output_type": "execute_result"
    }
   ],
   "source": [
    "train_features.columns"
   ]
  },
  {
   "cell_type": "code",
   "execution_count": null,
   "metadata": {},
   "outputs": [],
   "source": []
  }
 ],
 "metadata": {
  "kernelspec": {
   "display_name": "Python 3",
   "language": "python",
   "name": "python3"
  },
  "language_info": {
   "codemirror_mode": {
    "name": "ipython",
    "version": 3
   },
   "file_extension": ".py",
   "mimetype": "text/x-python",
   "name": "python",
   "nbconvert_exporter": "python",
   "pygments_lexer": "ipython3",
   "version": "3.6.8"
  }
 },
 "nbformat": 4,
 "nbformat_minor": 2
}
