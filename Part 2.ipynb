{
 "cells": [
  {
   "cell_type": "code",
   "execution_count": 2,
   "metadata": {
    "ExecuteTime": {
     "end_time": "2019-03-25T09:57:36.666403Z",
     "start_time": "2019-03-25T09:57:30.552639Z"
    }
   },
   "outputs": [],
   "source": [
    "import pandas as pd\n",
    "pd.set_option('display.max_columns', 60)\n",
    "import numpy as np\n",
    "import matplotlib.pyplot as plt\n",
    "%matplotlib inline\n",
    "plt.style.use('seaborn')\n",
    "import seaborn as sns\n",
    "from IPython.core.pylabtools import figsize \n",
    "\n",
    "from sklearn.preprocessing import Imputer, StandardScaler\n",
    "\n",
    "from sklearn.linear_model import Lasso\n",
    "from sklearn.ensemble import RandomForestRegressor, GradientBoostingRegressor\n",
    "from sklearn.svm import SVR\n",
    "from sklearn.neighbors import KNeighborsRegressor\n",
    "\n",
    "from sklearn.model_selection import RandomizedSearchCV, GridSearchCV"
   ]
  },
  {
   "cell_type": "markdown",
   "metadata": {
    "ExecuteTime": {
     "end_time": "2019-03-22T14:15:27.871794Z",
     "start_time": "2019-03-22T14:15:27.866446Z"
    }
   },
   "source": [
    "## Загрузка и подготовка данных"
   ]
  },
  {
   "cell_type": "code",
   "execution_count": 3,
   "metadata": {
    "ExecuteTime": {
     "end_time": "2019-03-25T09:57:36.888383Z",
     "start_time": "2019-03-25T09:57:36.672680Z"
    }
   },
   "outputs": [],
   "source": [
    "train_features = pd.read_csv('data/training_features.csv')\n",
    "test_features = pd.read_csv('data/testing_features.csv')\n",
    "train_labels = pd.read_csv('data/training_labels.csv')\n",
    "test_labels = pd.read_csv('data/testing_labels.csv')"
   ]
  },
  {
   "cell_type": "code",
   "execution_count": 4,
   "metadata": {
    "ExecuteTime": {
     "end_time": "2019-03-25T09:57:37.058044Z",
     "start_time": "2019-03-25T09:57:36.890056Z"
    }
   },
   "outputs": [
    {
     "data": {
      "text/html": [
       "<div>\n",
       "<style scoped>\n",
       "    .dataframe tbody tr th:only-of-type {\n",
       "        vertical-align: middle;\n",
       "    }\n",
       "\n",
       "    .dataframe tbody tr th {\n",
       "        vertical-align: top;\n",
       "    }\n",
       "\n",
       "    .dataframe thead th {\n",
       "        text-align: right;\n",
       "    }\n",
       "</style>\n",
       "<table border=\"1\" class=\"dataframe\">\n",
       "  <thead>\n",
       "    <tr style=\"text-align: right;\">\n",
       "      <th></th>\n",
       "      <th>sqrt_Property Id</th>\n",
       "      <th>sqrt_Street Number</th>\n",
       "      <th>sqrt_Year Built</th>\n",
       "      <th>sqrt_Number of Buildings - Self-reported</th>\n",
       "      <th>sqrt_Occupancy</th>\n",
       "      <th>sqrt_Direct GHG Emissions (Metric Tons CO2e)</th>\n",
       "      <th>sqrt_Property GFA - Self-Reported (ft²)</th>\n",
       "      <th>sqrt_Water Intensity (All Water Sources) (gal/ft²)</th>\n",
       "      <th>sqrt_Source EUI (kBtu/ft²)</th>\n",
       "      <th>sqrt_Community Board</th>\n",
       "      <th>sqrt_Census Tract</th>\n",
       "      <th>Borough_Bronx</th>\n",
       "      <th>Borough_Brooklyn</th>\n",
       "      <th>Borough_Manhattan</th>\n",
       "      <th>Borough_Queens</th>\n",
       "      <th>Borough_Staten Island</th>\n",
       "      <th>Largest Property Use Type_Adult Education</th>\n",
       "      <th>Largest Property Use Type_Automobile Dealership</th>\n",
       "      <th>Largest Property Use Type_Bank Branch</th>\n",
       "      <th>Largest Property Use Type_College/University</th>\n",
       "      <th>Largest Property Use Type_Convenience Store without Gas Station</th>\n",
       "      <th>Largest Property Use Type_Courthouse</th>\n",
       "      <th>Largest Property Use Type_Distribution Center</th>\n",
       "      <th>Largest Property Use Type_Enclosed Mall</th>\n",
       "      <th>Largest Property Use Type_Financial Office</th>\n",
       "      <th>Largest Property Use Type_Hospital (General Medical &amp; Surgical)</th>\n",
       "      <th>Largest Property Use Type_Hotel</th>\n",
       "      <th>Largest Property Use Type_K-12 School</th>\n",
       "      <th>Largest Property Use Type_Library</th>\n",
       "      <th>Largest Property Use Type_Mailing Center/Post Office</th>\n",
       "      <th>...</th>\n",
       "      <th>Largest Property Use Type_Museum</th>\n",
       "      <th>Largest Property Use Type_Non-Refrigerated Warehouse</th>\n",
       "      <th>Largest Property Use Type_Office</th>\n",
       "      <th>Largest Property Use Type_Other</th>\n",
       "      <th>Largest Property Use Type_Other - Education</th>\n",
       "      <th>Largest Property Use Type_Other - Entertainment/Public Assembly</th>\n",
       "      <th>Largest Property Use Type_Other - Lodging/Residential</th>\n",
       "      <th>Largest Property Use Type_Other - Mall</th>\n",
       "      <th>Largest Property Use Type_Other - Public Services</th>\n",
       "      <th>Largest Property Use Type_Other - Recreation</th>\n",
       "      <th>Largest Property Use Type_Other - Services</th>\n",
       "      <th>Largest Property Use Type_Other - Specialty Hospital</th>\n",
       "      <th>Largest Property Use Type_Outpatient Rehabilitation/Physical Therapy</th>\n",
       "      <th>Largest Property Use Type_Parking</th>\n",
       "      <th>Largest Property Use Type_Performing Arts</th>\n",
       "      <th>Largest Property Use Type_Pre-school/Daycare</th>\n",
       "      <th>Largest Property Use Type_Refrigerated Warehouse</th>\n",
       "      <th>Largest Property Use Type_Repair Services (Vehicle, Shoe, Locksmith, etc.)</th>\n",
       "      <th>Largest Property Use Type_Residence Hall/Dormitory</th>\n",
       "      <th>Largest Property Use Type_Residential Care Facility</th>\n",
       "      <th>Largest Property Use Type_Restaurant</th>\n",
       "      <th>Largest Property Use Type_Retail Store</th>\n",
       "      <th>Largest Property Use Type_Self-Storage Facility</th>\n",
       "      <th>Largest Property Use Type_Senior Care Community</th>\n",
       "      <th>Largest Property Use Type_Social/Meeting Hall</th>\n",
       "      <th>Largest Property Use Type_Strip Mall</th>\n",
       "      <th>Largest Property Use Type_Supermarket/Grocery Store</th>\n",
       "      <th>Largest Property Use Type_Urgent Care/Clinic/Other Outpatient</th>\n",
       "      <th>Largest Property Use Type_Wholesale Club/Supercenter</th>\n",
       "      <th>Largest Property Use Type_Worship Facility</th>\n",
       "    </tr>\n",
       "  </thead>\n",
       "  <tbody>\n",
       "    <tr>\n",
       "      <th>0</th>\n",
       "      <td>1985.077580</td>\n",
       "      <td>NaN</td>\n",
       "      <td>44.564560</td>\n",
       "      <td>1.0</td>\n",
       "      <td>9.746794</td>\n",
       "      <td>12.103718</td>\n",
       "      <td>224.053565</td>\n",
       "      <td>7.410128</td>\n",
       "      <td>10.728467</td>\n",
       "      <td>NaN</td>\n",
       "      <td>NaN</td>\n",
       "      <td>0</td>\n",
       "      <td>0</td>\n",
       "      <td>0</td>\n",
       "      <td>1</td>\n",
       "      <td>0</td>\n",
       "      <td>0</td>\n",
       "      <td>0</td>\n",
       "      <td>0</td>\n",
       "      <td>0</td>\n",
       "      <td>0</td>\n",
       "      <td>0</td>\n",
       "      <td>0</td>\n",
       "      <td>0</td>\n",
       "      <td>0</td>\n",
       "      <td>0</td>\n",
       "      <td>0</td>\n",
       "      <td>0</td>\n",
       "      <td>0</td>\n",
       "      <td>0</td>\n",
       "      <td>...</td>\n",
       "      <td>0</td>\n",
       "      <td>0</td>\n",
       "      <td>0</td>\n",
       "      <td>0</td>\n",
       "      <td>0</td>\n",
       "      <td>0</td>\n",
       "      <td>0</td>\n",
       "      <td>0</td>\n",
       "      <td>0</td>\n",
       "      <td>0</td>\n",
       "      <td>0</td>\n",
       "      <td>0</td>\n",
       "      <td>0</td>\n",
       "      <td>0</td>\n",
       "      <td>0</td>\n",
       "      <td>0</td>\n",
       "      <td>0</td>\n",
       "      <td>0</td>\n",
       "      <td>0</td>\n",
       "      <td>0</td>\n",
       "      <td>0</td>\n",
       "      <td>0</td>\n",
       "      <td>0</td>\n",
       "      <td>0</td>\n",
       "      <td>0</td>\n",
       "      <td>0</td>\n",
       "      <td>0</td>\n",
       "      <td>0</td>\n",
       "      <td>0</td>\n",
       "      <td>0</td>\n",
       "    </tr>\n",
       "    <tr>\n",
       "      <th>1</th>\n",
       "      <td>1632.546783</td>\n",
       "      <td>34.799425</td>\n",
       "      <td>44.788391</td>\n",
       "      <td>1.0</td>\n",
       "      <td>10.000000</td>\n",
       "      <td>21.156559</td>\n",
       "      <td>409.144229</td>\n",
       "      <td>NaN</td>\n",
       "      <td>10.844353</td>\n",
       "      <td>1.732051</td>\n",
       "      <td>11.180340</td>\n",
       "      <td>1</td>\n",
       "      <td>0</td>\n",
       "      <td>0</td>\n",
       "      <td>0</td>\n",
       "      <td>0</td>\n",
       "      <td>0</td>\n",
       "      <td>0</td>\n",
       "      <td>0</td>\n",
       "      <td>0</td>\n",
       "      <td>0</td>\n",
       "      <td>0</td>\n",
       "      <td>0</td>\n",
       "      <td>0</td>\n",
       "      <td>0</td>\n",
       "      <td>0</td>\n",
       "      <td>0</td>\n",
       "      <td>0</td>\n",
       "      <td>0</td>\n",
       "      <td>0</td>\n",
       "      <td>...</td>\n",
       "      <td>0</td>\n",
       "      <td>0</td>\n",
       "      <td>0</td>\n",
       "      <td>0</td>\n",
       "      <td>0</td>\n",
       "      <td>0</td>\n",
       "      <td>0</td>\n",
       "      <td>0</td>\n",
       "      <td>0</td>\n",
       "      <td>0</td>\n",
       "      <td>0</td>\n",
       "      <td>0</td>\n",
       "      <td>0</td>\n",
       "      <td>0</td>\n",
       "      <td>0</td>\n",
       "      <td>0</td>\n",
       "      <td>0</td>\n",
       "      <td>0</td>\n",
       "      <td>0</td>\n",
       "      <td>0</td>\n",
       "      <td>0</td>\n",
       "      <td>0</td>\n",
       "      <td>0</td>\n",
       "      <td>0</td>\n",
       "      <td>0</td>\n",
       "      <td>0</td>\n",
       "      <td>0</td>\n",
       "      <td>0</td>\n",
       "      <td>0</td>\n",
       "      <td>0</td>\n",
       "    </tr>\n",
       "    <tr>\n",
       "      <th>2</th>\n",
       "      <td>1851.772394</td>\n",
       "      <td>16.911535</td>\n",
       "      <td>43.897608</td>\n",
       "      <td>1.0</td>\n",
       "      <td>10.000000</td>\n",
       "      <td>15.744840</td>\n",
       "      <td>269.486549</td>\n",
       "      <td>NaN</td>\n",
       "      <td>10.271319</td>\n",
       "      <td>3.000000</td>\n",
       "      <td>17.916473</td>\n",
       "      <td>0</td>\n",
       "      <td>1</td>\n",
       "      <td>0</td>\n",
       "      <td>0</td>\n",
       "      <td>0</td>\n",
       "      <td>0</td>\n",
       "      <td>0</td>\n",
       "      <td>0</td>\n",
       "      <td>0</td>\n",
       "      <td>0</td>\n",
       "      <td>0</td>\n",
       "      <td>0</td>\n",
       "      <td>0</td>\n",
       "      <td>0</td>\n",
       "      <td>0</td>\n",
       "      <td>0</td>\n",
       "      <td>0</td>\n",
       "      <td>0</td>\n",
       "      <td>0</td>\n",
       "      <td>...</td>\n",
       "      <td>0</td>\n",
       "      <td>0</td>\n",
       "      <td>0</td>\n",
       "      <td>0</td>\n",
       "      <td>0</td>\n",
       "      <td>0</td>\n",
       "      <td>0</td>\n",
       "      <td>0</td>\n",
       "      <td>0</td>\n",
       "      <td>0</td>\n",
       "      <td>0</td>\n",
       "      <td>0</td>\n",
       "      <td>0</td>\n",
       "      <td>0</td>\n",
       "      <td>0</td>\n",
       "      <td>0</td>\n",
       "      <td>0</td>\n",
       "      <td>0</td>\n",
       "      <td>0</td>\n",
       "      <td>0</td>\n",
       "      <td>0</td>\n",
       "      <td>0</td>\n",
       "      <td>0</td>\n",
       "      <td>0</td>\n",
       "      <td>0</td>\n",
       "      <td>0</td>\n",
       "      <td>0</td>\n",
       "      <td>0</td>\n",
       "      <td>0</td>\n",
       "      <td>0</td>\n",
       "    </tr>\n",
       "    <tr>\n",
       "      <th>3</th>\n",
       "      <td>1842.102060</td>\n",
       "      <td>9.539392</td>\n",
       "      <td>44.631827</td>\n",
       "      <td>1.0</td>\n",
       "      <td>10.000000</td>\n",
       "      <td>25.930677</td>\n",
       "      <td>359.628975</td>\n",
       "      <td>NaN</td>\n",
       "      <td>16.991174</td>\n",
       "      <td>1.000000</td>\n",
       "      <td>5.196152</td>\n",
       "      <td>0</td>\n",
       "      <td>0</td>\n",
       "      <td>0</td>\n",
       "      <td>0</td>\n",
       "      <td>1</td>\n",
       "      <td>0</td>\n",
       "      <td>0</td>\n",
       "      <td>0</td>\n",
       "      <td>0</td>\n",
       "      <td>0</td>\n",
       "      <td>0</td>\n",
       "      <td>0</td>\n",
       "      <td>0</td>\n",
       "      <td>0</td>\n",
       "      <td>0</td>\n",
       "      <td>0</td>\n",
       "      <td>0</td>\n",
       "      <td>0</td>\n",
       "      <td>0</td>\n",
       "      <td>...</td>\n",
       "      <td>0</td>\n",
       "      <td>0</td>\n",
       "      <td>0</td>\n",
       "      <td>0</td>\n",
       "      <td>0</td>\n",
       "      <td>0</td>\n",
       "      <td>0</td>\n",
       "      <td>0</td>\n",
       "      <td>0</td>\n",
       "      <td>0</td>\n",
       "      <td>0</td>\n",
       "      <td>0</td>\n",
       "      <td>0</td>\n",
       "      <td>0</td>\n",
       "      <td>0</td>\n",
       "      <td>0</td>\n",
       "      <td>0</td>\n",
       "      <td>0</td>\n",
       "      <td>0</td>\n",
       "      <td>0</td>\n",
       "      <td>0</td>\n",
       "      <td>0</td>\n",
       "      <td>0</td>\n",
       "      <td>1</td>\n",
       "      <td>0</td>\n",
       "      <td>0</td>\n",
       "      <td>0</td>\n",
       "      <td>0</td>\n",
       "      <td>0</td>\n",
       "      <td>0</td>\n",
       "    </tr>\n",
       "    <tr>\n",
       "      <th>4</th>\n",
       "      <td>2116.683018</td>\n",
       "      <td>19.824228</td>\n",
       "      <td>43.897608</td>\n",
       "      <td>1.0</td>\n",
       "      <td>10.000000</td>\n",
       "      <td>23.078128</td>\n",
       "      <td>366.309978</td>\n",
       "      <td>NaN</td>\n",
       "      <td>9.132360</td>\n",
       "      <td>2.645751</td>\n",
       "      <td>12.922848</td>\n",
       "      <td>0</td>\n",
       "      <td>0</td>\n",
       "      <td>1</td>\n",
       "      <td>0</td>\n",
       "      <td>0</td>\n",
       "      <td>0</td>\n",
       "      <td>0</td>\n",
       "      <td>0</td>\n",
       "      <td>0</td>\n",
       "      <td>0</td>\n",
       "      <td>0</td>\n",
       "      <td>0</td>\n",
       "      <td>0</td>\n",
       "      <td>0</td>\n",
       "      <td>0</td>\n",
       "      <td>0</td>\n",
       "      <td>0</td>\n",
       "      <td>0</td>\n",
       "      <td>0</td>\n",
       "      <td>...</td>\n",
       "      <td>0</td>\n",
       "      <td>0</td>\n",
       "      <td>0</td>\n",
       "      <td>0</td>\n",
       "      <td>0</td>\n",
       "      <td>0</td>\n",
       "      <td>0</td>\n",
       "      <td>0</td>\n",
       "      <td>0</td>\n",
       "      <td>0</td>\n",
       "      <td>0</td>\n",
       "      <td>0</td>\n",
       "      <td>0</td>\n",
       "      <td>0</td>\n",
       "      <td>0</td>\n",
       "      <td>0</td>\n",
       "      <td>0</td>\n",
       "      <td>0</td>\n",
       "      <td>0</td>\n",
       "      <td>0</td>\n",
       "      <td>0</td>\n",
       "      <td>0</td>\n",
       "      <td>0</td>\n",
       "      <td>0</td>\n",
       "      <td>0</td>\n",
       "      <td>0</td>\n",
       "      <td>0</td>\n",
       "      <td>0</td>\n",
       "      <td>0</td>\n",
       "      <td>0</td>\n",
       "    </tr>\n",
       "  </tbody>\n",
       "</table>\n",
       "<p>5 rows × 63 columns</p>\n",
       "</div>"
      ],
      "text/plain": [
       "   sqrt_Property Id  sqrt_Street Number  sqrt_Year Built  \\\n",
       "0       1985.077580                 NaN        44.564560   \n",
       "1       1632.546783           34.799425        44.788391   \n",
       "2       1851.772394           16.911535        43.897608   \n",
       "3       1842.102060            9.539392        44.631827   \n",
       "4       2116.683018           19.824228        43.897608   \n",
       "\n",
       "   sqrt_Number of Buildings - Self-reported  sqrt_Occupancy  \\\n",
       "0                                       1.0        9.746794   \n",
       "1                                       1.0       10.000000   \n",
       "2                                       1.0       10.000000   \n",
       "3                                       1.0       10.000000   \n",
       "4                                       1.0       10.000000   \n",
       "\n",
       "   sqrt_Direct GHG Emissions (Metric Tons CO2e)  \\\n",
       "0                                     12.103718   \n",
       "1                                     21.156559   \n",
       "2                                     15.744840   \n",
       "3                                     25.930677   \n",
       "4                                     23.078128   \n",
       "\n",
       "   sqrt_Property GFA - Self-Reported (ft²)  \\\n",
       "0                               224.053565   \n",
       "1                               409.144229   \n",
       "2                               269.486549   \n",
       "3                               359.628975   \n",
       "4                               366.309978   \n",
       "\n",
       "   sqrt_Water Intensity (All Water Sources) (gal/ft²)  \\\n",
       "0                                           7.410128    \n",
       "1                                                NaN    \n",
       "2                                                NaN    \n",
       "3                                                NaN    \n",
       "4                                                NaN    \n",
       "\n",
       "   sqrt_Source EUI (kBtu/ft²)  sqrt_Community Board  sqrt_Census Tract  \\\n",
       "0                   10.728467                   NaN                NaN   \n",
       "1                   10.844353              1.732051          11.180340   \n",
       "2                   10.271319              3.000000          17.916473   \n",
       "3                   16.991174              1.000000           5.196152   \n",
       "4                    9.132360              2.645751          12.922848   \n",
       "\n",
       "   Borough_Bronx  Borough_Brooklyn  Borough_Manhattan  Borough_Queens  \\\n",
       "0              0                 0                  0               1   \n",
       "1              1                 0                  0               0   \n",
       "2              0                 1                  0               0   \n",
       "3              0                 0                  0               0   \n",
       "4              0                 0                  1               0   \n",
       "\n",
       "   Borough_Staten Island  Largest Property Use Type_Adult Education  \\\n",
       "0                      0                                          0   \n",
       "1                      0                                          0   \n",
       "2                      0                                          0   \n",
       "3                      1                                          0   \n",
       "4                      0                                          0   \n",
       "\n",
       "   Largest Property Use Type_Automobile Dealership  \\\n",
       "0                                                0   \n",
       "1                                                0   \n",
       "2                                                0   \n",
       "3                                                0   \n",
       "4                                                0   \n",
       "\n",
       "   Largest Property Use Type_Bank Branch  \\\n",
       "0                                      0   \n",
       "1                                      0   \n",
       "2                                      0   \n",
       "3                                      0   \n",
       "4                                      0   \n",
       "\n",
       "   Largest Property Use Type_College/University  \\\n",
       "0                                             0   \n",
       "1                                             0   \n",
       "2                                             0   \n",
       "3                                             0   \n",
       "4                                             0   \n",
       "\n",
       "   Largest Property Use Type_Convenience Store without Gas Station  \\\n",
       "0                                                  0                 \n",
       "1                                                  0                 \n",
       "2                                                  0                 \n",
       "3                                                  0                 \n",
       "4                                                  0                 \n",
       "\n",
       "   Largest Property Use Type_Courthouse  \\\n",
       "0                                     0   \n",
       "1                                     0   \n",
       "2                                     0   \n",
       "3                                     0   \n",
       "4                                     0   \n",
       "\n",
       "   Largest Property Use Type_Distribution Center  \\\n",
       "0                                              0   \n",
       "1                                              0   \n",
       "2                                              0   \n",
       "3                                              0   \n",
       "4                                              0   \n",
       "\n",
       "   Largest Property Use Type_Enclosed Mall  \\\n",
       "0                                        0   \n",
       "1                                        0   \n",
       "2                                        0   \n",
       "3                                        0   \n",
       "4                                        0   \n",
       "\n",
       "   Largest Property Use Type_Financial Office  \\\n",
       "0                                           0   \n",
       "1                                           0   \n",
       "2                                           0   \n",
       "3                                           0   \n",
       "4                                           0   \n",
       "\n",
       "   Largest Property Use Type_Hospital (General Medical & Surgical)  \\\n",
       "0                                                  0                 \n",
       "1                                                  0                 \n",
       "2                                                  0                 \n",
       "3                                                  0                 \n",
       "4                                                  0                 \n",
       "\n",
       "   Largest Property Use Type_Hotel  Largest Property Use Type_K-12 School  \\\n",
       "0                                0                                      0   \n",
       "1                                0                                      0   \n",
       "2                                0                                      0   \n",
       "3                                0                                      0   \n",
       "4                                0                                      0   \n",
       "\n",
       "   Largest Property Use Type_Library  \\\n",
       "0                                  0   \n",
       "1                                  0   \n",
       "2                                  0   \n",
       "3                                  0   \n",
       "4                                  0   \n",
       "\n",
       "   Largest Property Use Type_Mailing Center/Post Office  ...  \\\n",
       "0                                                  0     ...   \n",
       "1                                                  0     ...   \n",
       "2                                                  0     ...   \n",
       "3                                                  0     ...   \n",
       "4                                                  0     ...   \n",
       "\n",
       "   Largest Property Use Type_Museum  \\\n",
       "0                                 0   \n",
       "1                                 0   \n",
       "2                                 0   \n",
       "3                                 0   \n",
       "4                                 0   \n",
       "\n",
       "   Largest Property Use Type_Non-Refrigerated Warehouse  \\\n",
       "0                                                  0      \n",
       "1                                                  0      \n",
       "2                                                  0      \n",
       "3                                                  0      \n",
       "4                                                  0      \n",
       "\n",
       "   Largest Property Use Type_Office  Largest Property Use Type_Other  \\\n",
       "0                                 0                                0   \n",
       "1                                 0                                0   \n",
       "2                                 0                                0   \n",
       "3                                 0                                0   \n",
       "4                                 0                                0   \n",
       "\n",
       "   Largest Property Use Type_Other - Education  \\\n",
       "0                                            0   \n",
       "1                                            0   \n",
       "2                                            0   \n",
       "3                                            0   \n",
       "4                                            0   \n",
       "\n",
       "   Largest Property Use Type_Other - Entertainment/Public Assembly  \\\n",
       "0                                                  0                 \n",
       "1                                                  0                 \n",
       "2                                                  0                 \n",
       "3                                                  0                 \n",
       "4                                                  0                 \n",
       "\n",
       "   Largest Property Use Type_Other - Lodging/Residential  \\\n",
       "0                                                  0       \n",
       "1                                                  0       \n",
       "2                                                  0       \n",
       "3                                                  0       \n",
       "4                                                  0       \n",
       "\n",
       "   Largest Property Use Type_Other - Mall  \\\n",
       "0                                       0   \n",
       "1                                       0   \n",
       "2                                       0   \n",
       "3                                       0   \n",
       "4                                       0   \n",
       "\n",
       "   Largest Property Use Type_Other - Public Services  \\\n",
       "0                                                  0   \n",
       "1                                                  0   \n",
       "2                                                  0   \n",
       "3                                                  0   \n",
       "4                                                  0   \n",
       "\n",
       "   Largest Property Use Type_Other - Recreation  \\\n",
       "0                                             0   \n",
       "1                                             0   \n",
       "2                                             0   \n",
       "3                                             0   \n",
       "4                                             0   \n",
       "\n",
       "   Largest Property Use Type_Other - Services  \\\n",
       "0                                           0   \n",
       "1                                           0   \n",
       "2                                           0   \n",
       "3                                           0   \n",
       "4                                           0   \n",
       "\n",
       "   Largest Property Use Type_Other - Specialty Hospital  \\\n",
       "0                                                  0      \n",
       "1                                                  0      \n",
       "2                                                  0      \n",
       "3                                                  0      \n",
       "4                                                  0      \n",
       "\n",
       "   Largest Property Use Type_Outpatient Rehabilitation/Physical Therapy  \\\n",
       "0                                                  0                      \n",
       "1                                                  0                      \n",
       "2                                                  0                      \n",
       "3                                                  0                      \n",
       "4                                                  0                      \n",
       "\n",
       "   Largest Property Use Type_Parking  \\\n",
       "0                                  0   \n",
       "1                                  0   \n",
       "2                                  0   \n",
       "3                                  0   \n",
       "4                                  0   \n",
       "\n",
       "   Largest Property Use Type_Performing Arts  \\\n",
       "0                                          0   \n",
       "1                                          0   \n",
       "2                                          0   \n",
       "3                                          0   \n",
       "4                                          0   \n",
       "\n",
       "   Largest Property Use Type_Pre-school/Daycare  \\\n",
       "0                                             0   \n",
       "1                                             0   \n",
       "2                                             0   \n",
       "3                                             0   \n",
       "4                                             0   \n",
       "\n",
       "   Largest Property Use Type_Refrigerated Warehouse  \\\n",
       "0                                                 0   \n",
       "1                                                 0   \n",
       "2                                                 0   \n",
       "3                                                 0   \n",
       "4                                                 0   \n",
       "\n",
       "   Largest Property Use Type_Repair Services (Vehicle, Shoe, Locksmith, etc.)  \\\n",
       "0                                                  0                            \n",
       "1                                                  0                            \n",
       "2                                                  0                            \n",
       "3                                                  0                            \n",
       "4                                                  0                            \n",
       "\n",
       "   Largest Property Use Type_Residence Hall/Dormitory  \\\n",
       "0                                                  0    \n",
       "1                                                  0    \n",
       "2                                                  0    \n",
       "3                                                  0    \n",
       "4                                                  0    \n",
       "\n",
       "   Largest Property Use Type_Residential Care Facility  \\\n",
       "0                                                  0     \n",
       "1                                                  0     \n",
       "2                                                  0     \n",
       "3                                                  0     \n",
       "4                                                  0     \n",
       "\n",
       "   Largest Property Use Type_Restaurant  \\\n",
       "0                                     0   \n",
       "1                                     0   \n",
       "2                                     0   \n",
       "3                                     0   \n",
       "4                                     0   \n",
       "\n",
       "   Largest Property Use Type_Retail Store  \\\n",
       "0                                       0   \n",
       "1                                       0   \n",
       "2                                       0   \n",
       "3                                       0   \n",
       "4                                       0   \n",
       "\n",
       "   Largest Property Use Type_Self-Storage Facility  \\\n",
       "0                                                0   \n",
       "1                                                0   \n",
       "2                                                0   \n",
       "3                                                0   \n",
       "4                                                0   \n",
       "\n",
       "   Largest Property Use Type_Senior Care Community  \\\n",
       "0                                                0   \n",
       "1                                                0   \n",
       "2                                                0   \n",
       "3                                                1   \n",
       "4                                                0   \n",
       "\n",
       "   Largest Property Use Type_Social/Meeting Hall  \\\n",
       "0                                              0   \n",
       "1                                              0   \n",
       "2                                              0   \n",
       "3                                              0   \n",
       "4                                              0   \n",
       "\n",
       "   Largest Property Use Type_Strip Mall  \\\n",
       "0                                     0   \n",
       "1                                     0   \n",
       "2                                     0   \n",
       "3                                     0   \n",
       "4                                     0   \n",
       "\n",
       "   Largest Property Use Type_Supermarket/Grocery Store  \\\n",
       "0                                                  0     \n",
       "1                                                  0     \n",
       "2                                                  0     \n",
       "3                                                  0     \n",
       "4                                                  0     \n",
       "\n",
       "   Largest Property Use Type_Urgent Care/Clinic/Other Outpatient  \\\n",
       "0                                                  0               \n",
       "1                                                  0               \n",
       "2                                                  0               \n",
       "3                                                  0               \n",
       "4                                                  0               \n",
       "\n",
       "   Largest Property Use Type_Wholesale Club/Supercenter  \\\n",
       "0                                                  0      \n",
       "1                                                  0      \n",
       "2                                                  0      \n",
       "3                                                  0      \n",
       "4                                                  0      \n",
       "\n",
       "   Largest Property Use Type_Worship Facility  \n",
       "0                                           0  \n",
       "1                                           0  \n",
       "2                                           0  \n",
       "3                                           0  \n",
       "4                                           0  \n",
       "\n",
       "[5 rows x 63 columns]"
      ]
     },
     "execution_count": 4,
     "metadata": {},
     "output_type": "execute_result"
    }
   ],
   "source": [
    "train_features.head()"
   ]
  },
  {
   "cell_type": "code",
   "execution_count": 5,
   "metadata": {
    "ExecuteTime": {
     "end_time": "2019-03-25T09:57:37.064558Z",
     "start_time": "2019-03-25T09:57:37.059426Z"
    }
   },
   "outputs": [
    {
     "data": {
      "text/html": [
       "<div>\n",
       "<style scoped>\n",
       "    .dataframe tbody tr th:only-of-type {\n",
       "        vertical-align: middle;\n",
       "    }\n",
       "\n",
       "    .dataframe tbody tr th {\n",
       "        vertical-align: top;\n",
       "    }\n",
       "\n",
       "    .dataframe thead th {\n",
       "        text-align: right;\n",
       "    }\n",
       "</style>\n",
       "<table border=\"1\" class=\"dataframe\">\n",
       "  <thead>\n",
       "    <tr style=\"text-align: right;\">\n",
       "      <th></th>\n",
       "      <th>score</th>\n",
       "    </tr>\n",
       "  </thead>\n",
       "  <tbody>\n",
       "    <tr>\n",
       "      <th>0</th>\n",
       "      <td>76.0</td>\n",
       "    </tr>\n",
       "    <tr>\n",
       "      <th>1</th>\n",
       "      <td>64.0</td>\n",
       "    </tr>\n",
       "    <tr>\n",
       "      <th>2</th>\n",
       "      <td>69.0</td>\n",
       "    </tr>\n",
       "    <tr>\n",
       "      <th>3</th>\n",
       "      <td>35.0</td>\n",
       "    </tr>\n",
       "    <tr>\n",
       "      <th>4</th>\n",
       "      <td>93.0</td>\n",
       "    </tr>\n",
       "  </tbody>\n",
       "</table>\n",
       "</div>"
      ],
      "text/plain": [
       "   score\n",
       "0   76.0\n",
       "1   64.0\n",
       "2   69.0\n",
       "3   35.0\n",
       "4   93.0"
      ]
     },
     "execution_count": 5,
     "metadata": {},
     "output_type": "execute_result"
    }
   ],
   "source": [
    "train_labels.head()"
   ]
  },
  {
   "cell_type": "code",
   "execution_count": 8,
   "metadata": {
    "ExecuteTime": {
     "end_time": "2019-03-25T09:57:42.646688Z",
     "start_time": "2019-03-25T09:57:42.359961Z"
    }
   },
   "outputs": [
    {
     "data": {
      "image/png": "[encoded data removed]",
      "text/plain": [
       "<Figure size 1080x504 with 1 Axes>"
      ]
     },
     "metadata": {
      "needs_background": "light"
     },
     "output_type": "display_data"
    }
   ],
   "source": [
    "figsize(15, 7)\n",
    "train_labels.plot(kind = 'hist', bins = 100, edgecolor = 'black')\n",
    "plt.title('Energy Star Score', fontsize = 14);\n",
    "plt.ylabel('Число зданий', fontsize = 14);\n",
    "plt.xlabel('Величина рейтинга', fontsize = 14);"
   ]
  },
  {
   "cell_type": "markdown",
   "metadata": {},
   "source": [
    "Заполним пропущенные значения в данных"
   ]
  },
  {
   "cell_type": "code",
   "execution_count": 9,
   "metadata": {
    "ExecuteTime": {
     "end_time": "2019-03-25T09:57:43.985859Z",
     "start_time": "2019-03-25T09:57:43.949257Z"
    }
   },
   "outputs": [
    {
     "name": "stdout",
     "output_type": "stream",
     "text": [
      "Число пропущенных значений в тренировочной выборке: 0\n",
      "Число пропущенных значений в тестовой выборке: 0\n",
      "\n",
      "Число inf значений в тренировочной выборке: 0\n",
      "Число inf значений в тестовой выборке: 0\n"
     ]
    },
    {
     "name": "stderr",
     "output_type": "stream",
     "text": [
      "/home/grigoriy/anaconda3/envs/basic_env/lib/python3.6/site-packages/sklearn/utils/deprecation.py:58: DeprecationWarning: Class Imputer is deprecated; Imputer was deprecated in version 0.20 and will be removed in 0.22. Import impute.SimpleImputer from sklearn instead.\n",
      "  warnings.warn(msg, category=DeprecationWarning)\n"
     ]
    }
   ],
   "source": [
    "imputer = Imputer(strategy = 'median')\n",
    "imputer.fit(train_features)\n",
    "\n",
    "X = imputer.transform(train_features)\n",
    "X_test = imputer.transform(test_features)\n",
    "\n",
    "print('Число пропущенных значений в тренировочной выборке: {}'.format(np.sum(np.isnan(X))))\n",
    "print('Число пропущенных значений в тестовой выборке: {}'.format(np.sum(np.isnan(X_test))))\n",
    "print()\n",
    "print('Число inf значений в тренировочной выборке: {}'.format(np.sum(np.where(~np.isfinite(X)))))\n",
    "print('Число inf значений в тестовой выборке: {}'.format(np.sum(np.where(~np.isfinite(X_test)))))"
   ]
  },
  {
   "cell_type": "markdown",
   "metadata": {},
   "source": [
    "Масштабируем признаки"
   ]
  },
  {
   "cell_type": "code",
   "execution_count": 10,
   "metadata": {
    "ExecuteTime": {
     "end_time": "2019-03-25T09:57:47.861410Z",
     "start_time": "2019-03-25T09:57:47.731658Z"
    }
   },
   "outputs": [],
   "source": [
    "scaler = StandardScaler()\n",
    "scaler.fit(X)\n",
    "\n",
    "X = scaler.transform(X)\n",
    "X_test = scaler.transform(X_test)"
   ]
  },
  {
   "cell_type": "code",
   "execution_count": 11,
   "metadata": {
    "ExecuteTime": {
     "end_time": "2019-03-25T09:57:48.419341Z",
     "start_time": "2019-03-25T09:57:48.411385Z"
    }
   },
   "outputs": [],
   "source": [
    "y = np.array(train_labels).reshape(-1) #get 1-D array\n",
    "y_test = np.array(test_labels).reshape(-1)"
   ]
  },
  {
   "cell_type": "code",
   "execution_count": 12,
   "metadata": {
    "ExecuteTime": {
     "end_time": "2019-03-25T09:57:49.664616Z",
     "start_time": "2019-03-25T09:57:49.661227Z"
    }
   },
   "outputs": [
    {
     "data": {
      "text/plain": [
       "0"
      ]
     },
     "execution_count": 12,
     "metadata": {},
     "output_type": "execute_result"
    }
   ],
   "source": [
    "np.sum(np.isnan(X))"
   ]
  },
  {
   "cell_type": "markdown",
   "metadata": {},
   "source": [
    "## Подбор модели"
   ]
  },
  {
   "cell_type": "markdown",
   "metadata": {},
   "source": [
    "**Грубый решетчатый поиск**"
   ]
  },
  {
   "cell_type": "code",
   "execution_count": 30,
   "metadata": {
    "ExecuteTime": {
     "end_time": "2019-03-25T10:41:32.549497Z",
     "start_time": "2019-03-25T10:41:32.545578Z"
    }
   },
   "outputs": [],
   "source": [
    "models_dict = {\n",
    "    'Lasso regression': Lasso(random_state=42)\n",
    "    ,'Random Forest regression': RandomForestRegressor(random_state = 42, n_jobs = -1)\n",
    "    ,'Gradient Boosting regression': GradientBoostingRegressor(random_state=42)\n",
    "    ,'SVM regression': SVR()\n",
    "#     ,'KNN regression': KNeighborsRegressor(n_jobs = -1)\n",
    "    }"
   ]
  },
  {
   "cell_type": "code",
   "execution_count": 31,
   "metadata": {
    "ExecuteTime": {
     "end_time": "2019-03-25T10:41:33.402313Z",
     "start_time": "2019-03-25T10:41:33.399100Z"
    }
   },
   "outputs": [],
   "source": [
    "parameters_grid_dict = {\n",
    "    'Lasso regression': {'alpha': np.linspace(0.1, 1, 10)}\n",
    "    ,'Random Forest regression': {'n_estimators': np.arange(100, 500, 5)}\n",
    "    ,'Gradient Boosting regression': {'n_estimators': np.arange(100, 500, 5)}\n",
    "    ,'SVM regression': {'C': [0.001, 0.01, 0.1, 1, 10], 'gamma' : [0.001, 0.01, 0.1, 1]}\n",
    "#     ,'KNN regression': {'n_neighbors ': np.arange(1, 10, 2)}\n",
    "}"
   ]
  },
  {
   "cell_type": "code",
   "execution_count": 32,
   "metadata": {
    "ExecuteTime": {
     "end_time": "2019-03-25T11:18:31.069345Z",
     "start_time": "2019-03-25T10:41:34.175767Z"
    }
   },
   "outputs": [
    {
     "name": "stdout",
     "output_type": "stream",
     "text": [
      " Лучший результат для Lasso regression: 0.6577321549997884\n",
      " Лучший результат для Random Forest regression: 0.812907775878094\n",
      " Лучший результат для Gradient Boosting regression: 0.8212332978437137\n",
      " Лучший результат для SVM regression: 0.7549182466972051\n"
     ]
    }
   ],
   "source": [
    "# 40 минут \n",
    "best_result_list = []\n",
    "best_parameters_list = []\n",
    "best_model_list = []\n",
    "for model_name in models_dict.keys():\n",
    "    model = models_dict.get(model_name)\n",
    "    param_grid = parameters_grid_dict.get(model_name)\n",
    "    clf = GridSearchCV(model, param_grid, cv = 5)\n",
    "    best_model = clf.fit(X, y)\n",
    "    \n",
    "    best_model_list.append(best_model)\n",
    "    best_result_list.append(best_model.best_score_)\n",
    "    best_parameters_list.append(best_model.best_estimator_)\n",
    "    \n",
    "    print(' Лучший результат для {}: {}'.format(model_name, best_model.best_score_))"
   ]
  },
  {
   "cell_type": "markdown",
   "metadata": {},
   "source": [
    "Сравним модели между собой и с наивной моделью из предыдущей части по MAE"
   ]
  },
  {
   "cell_type": "code",
   "execution_count": 72,
   "metadata": {
    "ExecuteTime": {
     "end_time": "2019-03-25T11:56:25.611132Z",
     "start_time": "2019-03-25T11:56:25.604388Z"
    }
   },
   "outputs": [],
   "source": [
    "def get_MAE(y_test, y_pred):\n",
    "    return np.mean(abs(y_test - y_pred))"
   ]
  },
  {
   "cell_type": "code",
   "execution_count": 51,
   "metadata": {
    "ExecuteTime": {
     "end_time": "2019-03-25T11:49:32.793220Z",
     "start_time": "2019-03-25T11:49:32.786104Z"
    }
   },
   "outputs": [],
   "source": [
    "# Наивное предсказание по среднему из прошлой части\n",
    "baseline_guess = np.median(y)"
   ]
  },
  {
   "cell_type": "code",
   "execution_count": 54,
   "metadata": {
    "ExecuteTime": {
     "end_time": "2019-03-25T11:50:42.873554Z",
     "start_time": "2019-03-25T11:50:41.162454Z"
    }
   },
   "outputs": [],
   "source": [
    "model_names = list(models_dict.keys())+['Naive median guess']\n",
    "MAE_results = [get_MAE(y_test, best_model_list[i].predict(X_test)) for i in range(len(models_dict.keys()))] + \\\n",
    "              [get_MAE(y_test, baseline_guess)]"
   ]
  },
  {
   "cell_type": "code",
   "execution_count": 59,
   "metadata": {
    "ExecuteTime": {
     "end_time": "2019-03-25T11:52:47.570718Z",
     "start_time": "2019-03-25T11:52:47.567244Z"
    }
   },
   "outputs": [],
   "source": [
    "MAE_comparison = pd.DataFrame({'model': model_names, 'MAE': MAE_results})\n",
    "MAE_comparison.set_index('model', inplace = True)"
   ]
  },
  {
   "cell_type": "code",
   "execution_count": 71,
   "metadata": {
    "ExecuteTime": {
     "end_time": "2019-03-25T11:56:08.758962Z",
     "start_time": "2019-03-25T11:56:08.622461Z"
    }
   },
   "outputs": [
    {
     "data": {
      "image/png": "[encoded data removed]",
      "text/plain": [
       "<Figure size 1080x504 with 1 Axes>"
      ]
     },
     "metadata": {
      "needs_background": "light"
     },
     "output_type": "display_data"
    }
   ],
   "source": [
    "MAE_comparison.sort_values('MAE', ascending=False).plot(kind = 'barh')\n",
    "plt.ylabel(' ')\n",
    "plt.xlabel(' Mean Absolute Error', size = 14)\n",
    "plt.yticks(size = 14)\n",
    "plt.xticks(size = 14)\n",
    "plt.title('Величина средней квадратичной ошибки различных моделей', size = 16);"
   ]
  },
  {
   "cell_type": "markdown",
   "metadata": {
    "ExecuteTime": {
     "end_time": "2019-03-25T11:58:17.032365Z",
     "start_time": "2019-03-25T11:58:17.029728Z"
    }
   },
   "source": [
    "Для дальнейшей работы выбираем модель градиентного бустинга"
   ]
  },
  {
   "cell_type": "markdown",
   "metadata": {},
   "source": [
    "**Настройка параметров модели**"
   ]
  },
  {
   "cell_type": "markdown",
   "metadata": {},
   "source": [
    "[Complete Guide to Parameter Tuning in Gradient Boosting (GBM) in Python](https://www.analyticsvidhya.com/blog/2016/02/complete-guide-parameter-tuning-gradient-boosting-gbm-python/)"
   ]
  },
  {
   "cell_type": "code",
   "execution_count": 81,
   "metadata": {
    "ExecuteTime": {
     "end_time": "2019-03-25T12:14:36.341726Z",
     "start_time": "2019-03-25T12:14:36.330141Z"
    }
   },
   "outputs": [],
   "source": [
    "# На будущее\n",
    "\n",
    "# Для оптимизации времени тонкого подбора параметров воспользуемся генетическим алгоритмом поиска оптимальных параметров из библиотеки TPOT \n",
    "# https://epistasislab.github.io/tpot/\n",
    "\n",
    "# from tpot import TPOTClassifier\n",
    "\n",
    "# tpot = TPOTClassifier(generations = 5, population_size = 50, verbosity = 2, n_jobs = -1)\n",
    "# tpot.fit(X, y)"
   ]
  },
  {
   "cell_type": "code",
   "execution_count": null,
   "metadata": {},
   "outputs": [],
   "source": []
  }
 ],
 "metadata": {
  "kernelspec": {
   "display_name": "Python 3",
   "language": "python",
   "name": "python3"
  },
  "language_info": {
   "codemirror_mode": {
    "name": "ipython",
    "version": 3
   },
   "file_extension": ".py",
   "mimetype": "text/x-python",
   "name": "python",
   "nbconvert_exporter": "python",
   "pygments_lexer": "ipython3",
   "version": "3.6.8"
  }
 },
 "nbformat": 4,
 "nbformat_minor": 2
}
